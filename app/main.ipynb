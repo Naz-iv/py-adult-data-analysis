{
 "cells": [
  {
   "cell_type": "code",
   "execution_count": 208,
   "outputs": [],
   "source": [
    "import numpy as np\n",
    "import pandas as pd"
   ],
   "metadata": {
    "collapsed": false,
    "pycharm": {
     "name": "#%%\n"
    },
    "ExecuteTime": {
     "end_time": "2024-01-09T11:15:08.216261800Z",
     "start_time": "2024-01-09T11:15:07.984532500Z"
    }
   }
  },
  {
   "cell_type": "markdown",
   "source": [
    "# Task 0\n",
    "Read the dataset from csv file & perform data cleaning - remove all rows, which contains `?` in some columns.\n",
    "Also check for data correctness (salary & salary $K)."
   ],
   "metadata": {
    "collapsed": false,
    "pycharm": {
     "name": "#%% md\n"
    }
   }
  },
  {
   "cell_type": "code",
   "execution_count": 209,
   "outputs": [
    {
     "data": {
      "text/plain": "   Unnamed: 0  age         workclass  education      marital-status  \\\n0           0   39         State-gov  Bachelors       Never-married   \n1           1   50  Self-emp-not-inc  Bachelors  Married-civ-spouse   \n2           2   38           Private    HS-grad            Divorced   \n3           3   53           Private       11th  Married-civ-spouse   \n4           4   28           Private  Bachelors  Married-civ-spouse   \n\n          occupation   relationship   race     sex  hours-per-week  \\\n0       Adm-clerical  Not-in-family  White    Male              40   \n1    Exec-managerial        Husband  White    Male              13   \n2  Handlers-cleaners  Not-in-family  White    Male              40   \n3  Handlers-cleaners        Husband  Black    Male              40   \n4     Prof-specialty           Wife  Black  Female              40   \n\n  native-country salary  salary K$  \n0  United-States  <=50K         39  \n1  United-States  <=50K         35  \n2  United-States  <=50K         27  \n3  United-States  <=50K         43  \n4           Cuba  <=50K         25  ",
      "text/html": "<div>\n<style scoped>\n    .dataframe tbody tr th:only-of-type {\n        vertical-align: middle;\n    }\n\n    .dataframe tbody tr th {\n        vertical-align: top;\n    }\n\n    .dataframe thead th {\n        text-align: right;\n    }\n</style>\n<table border=\"1\" class=\"dataframe\">\n  <thead>\n    <tr style=\"text-align: right;\">\n      <th></th>\n      <th>Unnamed: 0</th>\n      <th>age</th>\n      <th>workclass</th>\n      <th>education</th>\n      <th>marital-status</th>\n      <th>occupation</th>\n      <th>relationship</th>\n      <th>race</th>\n      <th>sex</th>\n      <th>hours-per-week</th>\n      <th>native-country</th>\n      <th>salary</th>\n      <th>salary K$</th>\n    </tr>\n  </thead>\n  <tbody>\n    <tr>\n      <th>0</th>\n      <td>0</td>\n      <td>39</td>\n      <td>State-gov</td>\n      <td>Bachelors</td>\n      <td>Never-married</td>\n      <td>Adm-clerical</td>\n      <td>Not-in-family</td>\n      <td>White</td>\n      <td>Male</td>\n      <td>40</td>\n      <td>United-States</td>\n      <td>&lt;=50K</td>\n      <td>39</td>\n    </tr>\n    <tr>\n      <th>1</th>\n      <td>1</td>\n      <td>50</td>\n      <td>Self-emp-not-inc</td>\n      <td>Bachelors</td>\n      <td>Married-civ-spouse</td>\n      <td>Exec-managerial</td>\n      <td>Husband</td>\n      <td>White</td>\n      <td>Male</td>\n      <td>13</td>\n      <td>United-States</td>\n      <td>&lt;=50K</td>\n      <td>35</td>\n    </tr>\n    <tr>\n      <th>2</th>\n      <td>2</td>\n      <td>38</td>\n      <td>Private</td>\n      <td>HS-grad</td>\n      <td>Divorced</td>\n      <td>Handlers-cleaners</td>\n      <td>Not-in-family</td>\n      <td>White</td>\n      <td>Male</td>\n      <td>40</td>\n      <td>United-States</td>\n      <td>&lt;=50K</td>\n      <td>27</td>\n    </tr>\n    <tr>\n      <th>3</th>\n      <td>3</td>\n      <td>53</td>\n      <td>Private</td>\n      <td>11th</td>\n      <td>Married-civ-spouse</td>\n      <td>Handlers-cleaners</td>\n      <td>Husband</td>\n      <td>Black</td>\n      <td>Male</td>\n      <td>40</td>\n      <td>United-States</td>\n      <td>&lt;=50K</td>\n      <td>43</td>\n    </tr>\n    <tr>\n      <th>4</th>\n      <td>4</td>\n      <td>28</td>\n      <td>Private</td>\n      <td>Bachelors</td>\n      <td>Married-civ-spouse</td>\n      <td>Prof-specialty</td>\n      <td>Wife</td>\n      <td>Black</td>\n      <td>Female</td>\n      <td>40</td>\n      <td>Cuba</td>\n      <td>&lt;=50K</td>\n      <td>25</td>\n    </tr>\n  </tbody>\n</table>\n</div>"
     },
     "execution_count": 209,
     "metadata": {},
     "output_type": "execute_result"
    }
   ],
   "source": [
    "data = pd.read_csv(r\"E:\\git\\py-adult-data-analysis\\data\\adult.csv\")\n",
    "df = pd.DataFrame(data)\n",
    "df.head()"
   ],
   "metadata": {
    "collapsed": false,
    "pycharm": {
     "name": "#%%\n"
    },
    "ExecuteTime": {
     "end_time": "2024-01-09T11:15:08.410421Z",
     "start_time": "2024-01-09T11:15:08.003009600Z"
    }
   }
  },
  {
   "cell_type": "code",
   "execution_count": 210,
   "outputs": [
    {
     "data": {
      "text/plain": "   Unnamed: 0  age         workclass  education      marital-status  \\\n0           0   39         State-gov  Bachelors       Never-married   \n1           1   50  Self-emp-not-inc  Bachelors  Married-civ-spouse   \n2           2   38           Private    HS-grad            Divorced   \n3           3   53           Private       11th  Married-civ-spouse   \n4           4   28           Private  Bachelors  Married-civ-spouse   \n\n          occupation   relationship   race     sex  hours-per-week  \\\n0       Adm-clerical  Not-in-family  White    Male              40   \n1    Exec-managerial        Husband  White    Male              13   \n2  Handlers-cleaners  Not-in-family  White    Male              40   \n3  Handlers-cleaners        Husband  Black    Male              40   \n4     Prof-specialty           Wife  Black  Female              40   \n\n  native-country salary  salary K$  \n0  United-States  <=50K         39  \n1  United-States  <=50K         35  \n2  United-States  <=50K         27  \n3  United-States  <=50K         43  \n4           Cuba  <=50K         25  ",
      "text/html": "<div>\n<style scoped>\n    .dataframe tbody tr th:only-of-type {\n        vertical-align: middle;\n    }\n\n    .dataframe tbody tr th {\n        vertical-align: top;\n    }\n\n    .dataframe thead th {\n        text-align: right;\n    }\n</style>\n<table border=\"1\" class=\"dataframe\">\n  <thead>\n    <tr style=\"text-align: right;\">\n      <th></th>\n      <th>Unnamed: 0</th>\n      <th>age</th>\n      <th>workclass</th>\n      <th>education</th>\n      <th>marital-status</th>\n      <th>occupation</th>\n      <th>relationship</th>\n      <th>race</th>\n      <th>sex</th>\n      <th>hours-per-week</th>\n      <th>native-country</th>\n      <th>salary</th>\n      <th>salary K$</th>\n    </tr>\n  </thead>\n  <tbody>\n    <tr>\n      <th>0</th>\n      <td>0</td>\n      <td>39</td>\n      <td>State-gov</td>\n      <td>Bachelors</td>\n      <td>Never-married</td>\n      <td>Adm-clerical</td>\n      <td>Not-in-family</td>\n      <td>White</td>\n      <td>Male</td>\n      <td>40</td>\n      <td>United-States</td>\n      <td>&lt;=50K</td>\n      <td>39</td>\n    </tr>\n    <tr>\n      <th>1</th>\n      <td>1</td>\n      <td>50</td>\n      <td>Self-emp-not-inc</td>\n      <td>Bachelors</td>\n      <td>Married-civ-spouse</td>\n      <td>Exec-managerial</td>\n      <td>Husband</td>\n      <td>White</td>\n      <td>Male</td>\n      <td>13</td>\n      <td>United-States</td>\n      <td>&lt;=50K</td>\n      <td>35</td>\n    </tr>\n    <tr>\n      <th>2</th>\n      <td>2</td>\n      <td>38</td>\n      <td>Private</td>\n      <td>HS-grad</td>\n      <td>Divorced</td>\n      <td>Handlers-cleaners</td>\n      <td>Not-in-family</td>\n      <td>White</td>\n      <td>Male</td>\n      <td>40</td>\n      <td>United-States</td>\n      <td>&lt;=50K</td>\n      <td>27</td>\n    </tr>\n    <tr>\n      <th>3</th>\n      <td>3</td>\n      <td>53</td>\n      <td>Private</td>\n      <td>11th</td>\n      <td>Married-civ-spouse</td>\n      <td>Handlers-cleaners</td>\n      <td>Husband</td>\n      <td>Black</td>\n      <td>Male</td>\n      <td>40</td>\n      <td>United-States</td>\n      <td>&lt;=50K</td>\n      <td>43</td>\n    </tr>\n    <tr>\n      <th>4</th>\n      <td>4</td>\n      <td>28</td>\n      <td>Private</td>\n      <td>Bachelors</td>\n      <td>Married-civ-spouse</td>\n      <td>Prof-specialty</td>\n      <td>Wife</td>\n      <td>Black</td>\n      <td>Female</td>\n      <td>40</td>\n      <td>Cuba</td>\n      <td>&lt;=50K</td>\n      <td>25</td>\n    </tr>\n  </tbody>\n</table>\n</div>"
     },
     "execution_count": 210,
     "metadata": {},
     "output_type": "execute_result"
    }
   ],
   "source": [
    "df_cleaned = df.loc[(df != \"?\").all(axis=1)]\n",
    "df_cleaned.head()"
   ],
   "metadata": {
    "collapsed": false,
    "ExecuteTime": {
     "end_time": "2024-01-09T11:15:08.457167600Z",
     "start_time": "2024-01-09T11:15:08.128048900Z"
    }
   }
  },
  {
   "cell_type": "code",
   "execution_count": 211,
   "outputs": [
    {
     "data": {
      "text/plain": "       Unnamed: 0  age     workclass     education      marital-status  \\\n25965       25965   28       Private       HS-grad  Married-civ-spouse   \n23575       23575   43     Local-gov  Some-college  Married-civ-spouse   \n8076         8076   50  Self-emp-inc       HS-grad  Married-civ-spouse   \n2301         2301   45       Private       HS-grad           Separated   \n4722         4722   24       Private       HS-grad       Never-married   \n1003         1003   23     Local-gov     Bachelors       Never-married   \n16187       16187   37   Federal-gov       HS-grad       Never-married   \n28654       28654   31       Private       HS-grad       Never-married   \n1585         1585   40       Private  Some-college  Married-civ-spouse   \n6988         6988   63       Private     Bachelors  Married-civ-spouse   \n\n            occupation   relationship   race     sex  hours-per-week  \\\n25965     Craft-repair        Husband  White    Male              38   \n23575    Other-service        Husband  White    Male              40   \n8076   Farming-fishing        Husband  White    Male              50   \n2301             Sales  Not-in-family  White  Female              40   \n4722             Sales      Own-child  White    Male              40   \n1003    Prof-specialty      Own-child  White  Female              60   \n16187  Exec-managerial      Unmarried  Black  Female              40   \n28654  Farming-fishing  Not-in-family  White    Male              40   \n1585      Craft-repair        Husband  White    Male              45   \n6988    Prof-specialty           Wife  White  Female              36   \n\n           native-country salary  salary K$  salary_check  \n25965       United-States  <=50K         20          True  \n23575       United-States  <=50K         29          True  \n8076        United-States  <=50K         41          True  \n2301        United-States  <=50K         36          True  \n4722   Dominican-Republic  <=50K         37          True  \n1003        United-States  <=50K         42          True  \n16187       United-States  <=50K         47          True  \n28654             Ireland  <=50K         47          True  \n1585        United-States   >50K        284          True  \n6988        United-States   >50K        299          True  ",
      "text/html": "<div>\n<style scoped>\n    .dataframe tbody tr th:only-of-type {\n        vertical-align: middle;\n    }\n\n    .dataframe tbody tr th {\n        vertical-align: top;\n    }\n\n    .dataframe thead th {\n        text-align: right;\n    }\n</style>\n<table border=\"1\" class=\"dataframe\">\n  <thead>\n    <tr style=\"text-align: right;\">\n      <th></th>\n      <th>Unnamed: 0</th>\n      <th>age</th>\n      <th>workclass</th>\n      <th>education</th>\n      <th>marital-status</th>\n      <th>occupation</th>\n      <th>relationship</th>\n      <th>race</th>\n      <th>sex</th>\n      <th>hours-per-week</th>\n      <th>native-country</th>\n      <th>salary</th>\n      <th>salary K$</th>\n      <th>salary_check</th>\n    </tr>\n  </thead>\n  <tbody>\n    <tr>\n      <th>25965</th>\n      <td>25965</td>\n      <td>28</td>\n      <td>Private</td>\n      <td>HS-grad</td>\n      <td>Married-civ-spouse</td>\n      <td>Craft-repair</td>\n      <td>Husband</td>\n      <td>White</td>\n      <td>Male</td>\n      <td>38</td>\n      <td>United-States</td>\n      <td>&lt;=50K</td>\n      <td>20</td>\n      <td>True</td>\n    </tr>\n    <tr>\n      <th>23575</th>\n      <td>23575</td>\n      <td>43</td>\n      <td>Local-gov</td>\n      <td>Some-college</td>\n      <td>Married-civ-spouse</td>\n      <td>Other-service</td>\n      <td>Husband</td>\n      <td>White</td>\n      <td>Male</td>\n      <td>40</td>\n      <td>United-States</td>\n      <td>&lt;=50K</td>\n      <td>29</td>\n      <td>True</td>\n    </tr>\n    <tr>\n      <th>8076</th>\n      <td>8076</td>\n      <td>50</td>\n      <td>Self-emp-inc</td>\n      <td>HS-grad</td>\n      <td>Married-civ-spouse</td>\n      <td>Farming-fishing</td>\n      <td>Husband</td>\n      <td>White</td>\n      <td>Male</td>\n      <td>50</td>\n      <td>United-States</td>\n      <td>&lt;=50K</td>\n      <td>41</td>\n      <td>True</td>\n    </tr>\n    <tr>\n      <th>2301</th>\n      <td>2301</td>\n      <td>45</td>\n      <td>Private</td>\n      <td>HS-grad</td>\n      <td>Separated</td>\n      <td>Sales</td>\n      <td>Not-in-family</td>\n      <td>White</td>\n      <td>Female</td>\n      <td>40</td>\n      <td>United-States</td>\n      <td>&lt;=50K</td>\n      <td>36</td>\n      <td>True</td>\n    </tr>\n    <tr>\n      <th>4722</th>\n      <td>4722</td>\n      <td>24</td>\n      <td>Private</td>\n      <td>HS-grad</td>\n      <td>Never-married</td>\n      <td>Sales</td>\n      <td>Own-child</td>\n      <td>White</td>\n      <td>Male</td>\n      <td>40</td>\n      <td>Dominican-Republic</td>\n      <td>&lt;=50K</td>\n      <td>37</td>\n      <td>True</td>\n    </tr>\n    <tr>\n      <th>1003</th>\n      <td>1003</td>\n      <td>23</td>\n      <td>Local-gov</td>\n      <td>Bachelors</td>\n      <td>Never-married</td>\n      <td>Prof-specialty</td>\n      <td>Own-child</td>\n      <td>White</td>\n      <td>Female</td>\n      <td>60</td>\n      <td>United-States</td>\n      <td>&lt;=50K</td>\n      <td>42</td>\n      <td>True</td>\n    </tr>\n    <tr>\n      <th>16187</th>\n      <td>16187</td>\n      <td>37</td>\n      <td>Federal-gov</td>\n      <td>HS-grad</td>\n      <td>Never-married</td>\n      <td>Exec-managerial</td>\n      <td>Unmarried</td>\n      <td>Black</td>\n      <td>Female</td>\n      <td>40</td>\n      <td>United-States</td>\n      <td>&lt;=50K</td>\n      <td>47</td>\n      <td>True</td>\n    </tr>\n    <tr>\n      <th>28654</th>\n      <td>28654</td>\n      <td>31</td>\n      <td>Private</td>\n      <td>HS-grad</td>\n      <td>Never-married</td>\n      <td>Farming-fishing</td>\n      <td>Not-in-family</td>\n      <td>White</td>\n      <td>Male</td>\n      <td>40</td>\n      <td>Ireland</td>\n      <td>&lt;=50K</td>\n      <td>47</td>\n      <td>True</td>\n    </tr>\n    <tr>\n      <th>1585</th>\n      <td>1585</td>\n      <td>40</td>\n      <td>Private</td>\n      <td>Some-college</td>\n      <td>Married-civ-spouse</td>\n      <td>Craft-repair</td>\n      <td>Husband</td>\n      <td>White</td>\n      <td>Male</td>\n      <td>45</td>\n      <td>United-States</td>\n      <td>&gt;50K</td>\n      <td>284</td>\n      <td>True</td>\n    </tr>\n    <tr>\n      <th>6988</th>\n      <td>6988</td>\n      <td>63</td>\n      <td>Private</td>\n      <td>Bachelors</td>\n      <td>Married-civ-spouse</td>\n      <td>Prof-specialty</td>\n      <td>Wife</td>\n      <td>White</td>\n      <td>Female</td>\n      <td>36</td>\n      <td>United-States</td>\n      <td>&gt;50K</td>\n      <td>299</td>\n      <td>True</td>\n    </tr>\n  </tbody>\n</table>\n</div>"
     },
     "execution_count": 211,
     "metadata": {},
     "output_type": "execute_result"
    }
   ],
   "source": [
    "df = df_cleaned\n",
    "df[\"salary_check\"] = df[\"salary_check\"] = ((df[\"salary\"] == \"<=50K\") & (df[\"salary K$\"] <= 50)) | (\n",
    "            (df[\"salary\"] == \">50K\") & (df[\"salary K$\"] > 50))\n",
    "\n",
    "# Check data correctness for salary and salary $K  \n",
    "(df[\"salary_check\"] == True).all()\n",
    "\n",
    "df.sample(10)"
   ],
   "metadata": {
    "collapsed": false,
    "ExecuteTime": {
     "end_time": "2024-01-09T11:15:08.460008400Z",
     "start_time": "2024-01-09T11:15:08.195972600Z"
    }
   }
  },
  {
   "cell_type": "markdown",
   "source": [
    "# Task 1\n",
    "Print the count of men and women in the dataset."
   ],
   "metadata": {
    "collapsed": false
   }
  },
  {
   "cell_type": "code",
   "execution_count": 212,
   "outputs": [
    {
     "data": {
      "text/plain": "Male      20380\nFemale     9782\nName: sex, dtype: int64"
     },
     "execution_count": 212,
     "metadata": {},
     "output_type": "execute_result"
    }
   ],
   "source": [
    "df.sex.value_counts()"
   ],
   "metadata": {
    "collapsed": false,
    "ExecuteTime": {
     "end_time": "2024-01-09T11:15:08.460008400Z",
     "start_time": "2024-01-09T11:15:08.241269700Z"
    }
   }
  },
  {
   "cell_type": "markdown",
   "source": [
    "# Task 2\n",
    "Find the average age of men in dataset"
   ],
   "metadata": {
    "collapsed": false,
    "pycharm": {
     "name": "#%% md\n"
    }
   }
  },
  {
   "cell_type": "code",
   "execution_count": 213,
   "outputs": [
    {
     "data": {
      "text/plain": "39.18400392541707"
     },
     "execution_count": 213,
     "metadata": {},
     "output_type": "execute_result"
    }
   ],
   "source": [
    "average_age = df[(df[\"sex\"] == \"Male\")].age.mean()\n",
    "average_age"
   ],
   "metadata": {
    "collapsed": false,
    "pycharm": {
     "name": "#%%\n"
    },
    "ExecuteTime": {
     "end_time": "2024-01-09T11:15:08.460008400Z",
     "start_time": "2024-01-09T11:15:08.271459400Z"
    }
   }
  },
  {
   "cell_type": "markdown",
   "source": [
    "# Task 3\n",
    "Get the percentage of people from Poland (native-country)"
   ],
   "metadata": {
    "collapsed": false,
    "pycharm": {
     "name": "#%% md\n"
    }
   }
  },
  {
   "cell_type": "code",
   "execution_count": 214,
   "outputs": [
    {
     "data": {
      "text/plain": "0.18566408063125786"
     },
     "execution_count": 214,
     "metadata": {},
     "output_type": "execute_result"
    }
   ],
   "source": [
    "df[\"native-country\"].value_counts(normalize=True)[\"Poland\"] * 100"
   ],
   "metadata": {
    "collapsed": false,
    "pycharm": {
     "name": "#%%\n"
    },
    "ExecuteTime": {
     "end_time": "2024-01-09T11:15:08.460008400Z",
     "start_time": "2024-01-09T11:15:08.303607800Z"
    }
   }
  },
  {
   "cell_type": "markdown",
   "source": [
    "# Task 4\n",
    "Get the mean and standard deviation of the age for people who earn > 50K per year. After this, get it for those who earn <= 50K."
   ],
   "metadata": {
    "collapsed": false,
    "pycharm": {
     "name": "#%% md\n"
    }
   }
  },
  {
   "cell_type": "code",
   "execution_count": 215,
   "outputs": [
    {
     "data": {
      "text/plain": "            mean        std\nsalary                     \n<=50K   36.60806  13.464631\n>50K    43.95911  10.269633",
      "text/html": "<div>\n<style scoped>\n    .dataframe tbody tr th:only-of-type {\n        vertical-align: middle;\n    }\n\n    .dataframe tbody tr th {\n        vertical-align: top;\n    }\n\n    .dataframe thead th {\n        text-align: right;\n    }\n</style>\n<table border=\"1\" class=\"dataframe\">\n  <thead>\n    <tr style=\"text-align: right;\">\n      <th></th>\n      <th>mean</th>\n      <th>std</th>\n    </tr>\n    <tr>\n      <th>salary</th>\n      <th></th>\n      <th></th>\n    </tr>\n  </thead>\n  <tbody>\n    <tr>\n      <th>&lt;=50K</th>\n      <td>36.60806</td>\n      <td>13.464631</td>\n    </tr>\n    <tr>\n      <th>&gt;50K</th>\n      <td>43.95911</td>\n      <td>10.269633</td>\n    </tr>\n  </tbody>\n</table>\n</div>"
     },
     "execution_count": 215,
     "metadata": {},
     "output_type": "execute_result"
    }
   ],
   "source": [
    "df.groupby(\"salary\").age.agg([\"mean\", \"std\"])"
   ],
   "metadata": {
    "collapsed": false,
    "pycharm": {
     "name": "#%%\n"
    },
    "ExecuteTime": {
     "end_time": "2024-01-09T11:15:08.460008400Z",
     "start_time": "2024-01-09T11:15:08.333946300Z"
    }
   }
  },
  {
   "cell_type": "markdown",
   "source": [
    "# Task 5\n",
    "Check, if there are some people without higher education (education: Bachelors, Prof-school, Assoc-acdm, Assoc-voc, Masters, Doctorate), but with > 50K salary"
   ],
   "metadata": {
    "collapsed": false,
    "pycharm": {
     "name": "#%% md\n"
    }
   }
  },
  {
   "cell_type": "code",
   "execution_count": 216,
   "outputs": [
    {
     "data": {
      "text/plain": "       Unnamed: 0  age         workclass     education      marital-status  \\\n14702       14702   41           Private       HS-grad  Married-civ-spouse   \n32183       32183   44      Self-emp-inc  Some-college  Married-civ-spouse   \n22145       22145   36           Private           9th  Married-civ-spouse   \n15891       15891   73           Private       7th-8th  Married-civ-spouse   \n8015         8015   34           Private       HS-grad  Married-civ-spouse   \n17675       17675   68  Self-emp-not-inc  Some-college  Married-civ-spouse   \n31110       31110   40           Private  Some-college  Married-civ-spouse   \n12939       12939   52      Self-emp-inc  Some-college  Married-civ-spouse   \n13265       13265   43           Private       HS-grad  Married-civ-spouse   \n7494         7494   31           Private  Some-college  Married-civ-spouse   \n\n              occupation relationship   race     sex  hours-per-week  \\\n14702    Exec-managerial      Husband  White    Male              40   \n32183    Exec-managerial      Husband  White    Male              50   \n22145              Sales    Own-child  White    Male              50   \n15891              Sales      Husband  White    Male              30   \n8015        Craft-repair      Husband  White    Male              55   \n17675              Sales      Husband  White    Male              40   \n31110       Adm-clerical         Wife  White  Female              40   \n12939       Adm-clerical         Wife  White  Female              40   \n13265  Machine-op-inspct      Husband  White    Male              42   \n7494        Craft-repair      Husband  White    Male              40   \n\n      native-country salary  salary K$  salary_check  \n14702  United-States   >50K        249          True  \n32183  United-States   >50K        298          True  \n22145  United-States   >50K        291          True  \n15891  United-States   >50K         93          True  \n8015   United-States   >50K         73          True  \n17675  United-States   >50K         74          True  \n31110  United-States   >50K        105          True  \n12939  United-States   >50K        240          True  \n13265  United-States   >50K        199          True  \n7494   United-States   >50K        119          True  ",
      "text/html": "<div>\n<style scoped>\n    .dataframe tbody tr th:only-of-type {\n        vertical-align: middle;\n    }\n\n    .dataframe tbody tr th {\n        vertical-align: top;\n    }\n\n    .dataframe thead th {\n        text-align: right;\n    }\n</style>\n<table border=\"1\" class=\"dataframe\">\n  <thead>\n    <tr style=\"text-align: right;\">\n      <th></th>\n      <th>Unnamed: 0</th>\n      <th>age</th>\n      <th>workclass</th>\n      <th>education</th>\n      <th>marital-status</th>\n      <th>occupation</th>\n      <th>relationship</th>\n      <th>race</th>\n      <th>sex</th>\n      <th>hours-per-week</th>\n      <th>native-country</th>\n      <th>salary</th>\n      <th>salary K$</th>\n      <th>salary_check</th>\n    </tr>\n  </thead>\n  <tbody>\n    <tr>\n      <th>14702</th>\n      <td>14702</td>\n      <td>41</td>\n      <td>Private</td>\n      <td>HS-grad</td>\n      <td>Married-civ-spouse</td>\n      <td>Exec-managerial</td>\n      <td>Husband</td>\n      <td>White</td>\n      <td>Male</td>\n      <td>40</td>\n      <td>United-States</td>\n      <td>&gt;50K</td>\n      <td>249</td>\n      <td>True</td>\n    </tr>\n    <tr>\n      <th>32183</th>\n      <td>32183</td>\n      <td>44</td>\n      <td>Self-emp-inc</td>\n      <td>Some-college</td>\n      <td>Married-civ-spouse</td>\n      <td>Exec-managerial</td>\n      <td>Husband</td>\n      <td>White</td>\n      <td>Male</td>\n      <td>50</td>\n      <td>United-States</td>\n      <td>&gt;50K</td>\n      <td>298</td>\n      <td>True</td>\n    </tr>\n    <tr>\n      <th>22145</th>\n      <td>22145</td>\n      <td>36</td>\n      <td>Private</td>\n      <td>9th</td>\n      <td>Married-civ-spouse</td>\n      <td>Sales</td>\n      <td>Own-child</td>\n      <td>White</td>\n      <td>Male</td>\n      <td>50</td>\n      <td>United-States</td>\n      <td>&gt;50K</td>\n      <td>291</td>\n      <td>True</td>\n    </tr>\n    <tr>\n      <th>15891</th>\n      <td>15891</td>\n      <td>73</td>\n      <td>Private</td>\n      <td>7th-8th</td>\n      <td>Married-civ-spouse</td>\n      <td>Sales</td>\n      <td>Husband</td>\n      <td>White</td>\n      <td>Male</td>\n      <td>30</td>\n      <td>United-States</td>\n      <td>&gt;50K</td>\n      <td>93</td>\n      <td>True</td>\n    </tr>\n    <tr>\n      <th>8015</th>\n      <td>8015</td>\n      <td>34</td>\n      <td>Private</td>\n      <td>HS-grad</td>\n      <td>Married-civ-spouse</td>\n      <td>Craft-repair</td>\n      <td>Husband</td>\n      <td>White</td>\n      <td>Male</td>\n      <td>55</td>\n      <td>United-States</td>\n      <td>&gt;50K</td>\n      <td>73</td>\n      <td>True</td>\n    </tr>\n    <tr>\n      <th>17675</th>\n      <td>17675</td>\n      <td>68</td>\n      <td>Self-emp-not-inc</td>\n      <td>Some-college</td>\n      <td>Married-civ-spouse</td>\n      <td>Sales</td>\n      <td>Husband</td>\n      <td>White</td>\n      <td>Male</td>\n      <td>40</td>\n      <td>United-States</td>\n      <td>&gt;50K</td>\n      <td>74</td>\n      <td>True</td>\n    </tr>\n    <tr>\n      <th>31110</th>\n      <td>31110</td>\n      <td>40</td>\n      <td>Private</td>\n      <td>Some-college</td>\n      <td>Married-civ-spouse</td>\n      <td>Adm-clerical</td>\n      <td>Wife</td>\n      <td>White</td>\n      <td>Female</td>\n      <td>40</td>\n      <td>United-States</td>\n      <td>&gt;50K</td>\n      <td>105</td>\n      <td>True</td>\n    </tr>\n    <tr>\n      <th>12939</th>\n      <td>12939</td>\n      <td>52</td>\n      <td>Self-emp-inc</td>\n      <td>Some-college</td>\n      <td>Married-civ-spouse</td>\n      <td>Adm-clerical</td>\n      <td>Wife</td>\n      <td>White</td>\n      <td>Female</td>\n      <td>40</td>\n      <td>United-States</td>\n      <td>&gt;50K</td>\n      <td>240</td>\n      <td>True</td>\n    </tr>\n    <tr>\n      <th>13265</th>\n      <td>13265</td>\n      <td>43</td>\n      <td>Private</td>\n      <td>HS-grad</td>\n      <td>Married-civ-spouse</td>\n      <td>Machine-op-inspct</td>\n      <td>Husband</td>\n      <td>White</td>\n      <td>Male</td>\n      <td>42</td>\n      <td>United-States</td>\n      <td>&gt;50K</td>\n      <td>199</td>\n      <td>True</td>\n    </tr>\n    <tr>\n      <th>7494</th>\n      <td>7494</td>\n      <td>31</td>\n      <td>Private</td>\n      <td>Some-college</td>\n      <td>Married-civ-spouse</td>\n      <td>Craft-repair</td>\n      <td>Husband</td>\n      <td>White</td>\n      <td>Male</td>\n      <td>40</td>\n      <td>United-States</td>\n      <td>&gt;50K</td>\n      <td>119</td>\n      <td>True</td>\n    </tr>\n  </tbody>\n</table>\n</div>"
     },
     "execution_count": 216,
     "metadata": {},
     "output_type": "execute_result"
    }
   ],
   "source": [
    "education = [\"Bachelors\", \"Prof-school\", \"Assoc-acdm\", \"Assoc-voc\", \"Masters\", \"Doctorate\"]\n",
    "selection = df[~df.education.isin(education) & (df.salary == \">50K\")]\n",
    "selection.sample(10)"
   ],
   "metadata": {
    "collapsed": false,
    "pycharm": {
     "name": "#%%\n"
    },
    "ExecuteTime": {
     "end_time": "2024-01-09T11:15:08.488793600Z",
     "start_time": "2024-01-09T11:15:08.368372800Z"
    }
   }
  },
  {
   "cell_type": "markdown",
   "source": [
    "# Task 6\n",
    "Get the statistics of age for each type of education. Use `groupby` and `describe` for this."
   ],
   "metadata": {
    "collapsed": false,
    "pycharm": {
     "name": "#%% md\n"
    }
   }
  },
  {
   "cell_type": "code",
   "execution_count": 217,
   "outputs": [
    {
     "data": {
      "text/plain": "               count       mean        std   min   25%   50%   75%   max\neducation                                                               \n10th           820.0  37.897561  16.225795  17.0  23.0  36.0  52.0  90.0\n11th          1048.0  32.363550  15.089307  17.0  18.0  28.5  43.0  90.0\n12th           377.0  32.013263  14.373710  17.0  19.0  28.0  41.0  79.0\n1st-4th        151.0  44.622517  14.929051  19.0  33.0  44.0  56.0  81.0\n5th-6th        288.0  41.649306  14.754622  17.0  28.0  41.0  53.0  82.0\n7th-8th        557.0  47.631957  15.737479  17.0  34.0  49.0  60.0  90.0\n9th            455.0  40.303297  15.335754  17.0  28.0  38.0  53.0  90.0\nAssoc-acdm    1008.0  37.286706  10.509755  19.0  29.0  36.0  44.0  90.0\nAssoc-voc     1307.0  38.246366  11.181253  19.0  30.0  37.0  45.0  84.0\nBachelors     5044.0  38.641554  11.577566  19.0  29.0  37.0  46.0  90.0\nDoctorate      375.0  47.130667  11.471727  24.0  39.0  47.0  54.0  80.0\nHS-grad       9840.0  38.640955  13.067730  17.0  28.0  37.0  48.0  90.0\nMasters       1627.0  43.740012  10.735356  18.0  36.0  43.0  50.0  90.0\nPreschool       45.0  41.288889  15.175672  19.0  30.0  40.0  53.0  75.0\nProf-school    542.0  44.249077  11.428098  25.0  36.0  43.0  50.0  90.0\nSome-college  6678.0  36.135370  13.073528  17.0  25.0  35.0  45.0  90.0",
      "text/html": "<div>\n<style scoped>\n    .dataframe tbody tr th:only-of-type {\n        vertical-align: middle;\n    }\n\n    .dataframe tbody tr th {\n        vertical-align: top;\n    }\n\n    .dataframe thead th {\n        text-align: right;\n    }\n</style>\n<table border=\"1\" class=\"dataframe\">\n  <thead>\n    <tr style=\"text-align: right;\">\n      <th></th>\n      <th>count</th>\n      <th>mean</th>\n      <th>std</th>\n      <th>min</th>\n      <th>25%</th>\n      <th>50%</th>\n      <th>75%</th>\n      <th>max</th>\n    </tr>\n    <tr>\n      <th>education</th>\n      <th></th>\n      <th></th>\n      <th></th>\n      <th></th>\n      <th></th>\n      <th></th>\n      <th></th>\n      <th></th>\n    </tr>\n  </thead>\n  <tbody>\n    <tr>\n      <th>10th</th>\n      <td>820.0</td>\n      <td>37.897561</td>\n      <td>16.225795</td>\n      <td>17.0</td>\n      <td>23.0</td>\n      <td>36.0</td>\n      <td>52.0</td>\n      <td>90.0</td>\n    </tr>\n    <tr>\n      <th>11th</th>\n      <td>1048.0</td>\n      <td>32.363550</td>\n      <td>15.089307</td>\n      <td>17.0</td>\n      <td>18.0</td>\n      <td>28.5</td>\n      <td>43.0</td>\n      <td>90.0</td>\n    </tr>\n    <tr>\n      <th>12th</th>\n      <td>377.0</td>\n      <td>32.013263</td>\n      <td>14.373710</td>\n      <td>17.0</td>\n      <td>19.0</td>\n      <td>28.0</td>\n      <td>41.0</td>\n      <td>79.0</td>\n    </tr>\n    <tr>\n      <th>1st-4th</th>\n      <td>151.0</td>\n      <td>44.622517</td>\n      <td>14.929051</td>\n      <td>19.0</td>\n      <td>33.0</td>\n      <td>44.0</td>\n      <td>56.0</td>\n      <td>81.0</td>\n    </tr>\n    <tr>\n      <th>5th-6th</th>\n      <td>288.0</td>\n      <td>41.649306</td>\n      <td>14.754622</td>\n      <td>17.0</td>\n      <td>28.0</td>\n      <td>41.0</td>\n      <td>53.0</td>\n      <td>82.0</td>\n    </tr>\n    <tr>\n      <th>7th-8th</th>\n      <td>557.0</td>\n      <td>47.631957</td>\n      <td>15.737479</td>\n      <td>17.0</td>\n      <td>34.0</td>\n      <td>49.0</td>\n      <td>60.0</td>\n      <td>90.0</td>\n    </tr>\n    <tr>\n      <th>9th</th>\n      <td>455.0</td>\n      <td>40.303297</td>\n      <td>15.335754</td>\n      <td>17.0</td>\n      <td>28.0</td>\n      <td>38.0</td>\n      <td>53.0</td>\n      <td>90.0</td>\n    </tr>\n    <tr>\n      <th>Assoc-acdm</th>\n      <td>1008.0</td>\n      <td>37.286706</td>\n      <td>10.509755</td>\n      <td>19.0</td>\n      <td>29.0</td>\n      <td>36.0</td>\n      <td>44.0</td>\n      <td>90.0</td>\n    </tr>\n    <tr>\n      <th>Assoc-voc</th>\n      <td>1307.0</td>\n      <td>38.246366</td>\n      <td>11.181253</td>\n      <td>19.0</td>\n      <td>30.0</td>\n      <td>37.0</td>\n      <td>45.0</td>\n      <td>84.0</td>\n    </tr>\n    <tr>\n      <th>Bachelors</th>\n      <td>5044.0</td>\n      <td>38.641554</td>\n      <td>11.577566</td>\n      <td>19.0</td>\n      <td>29.0</td>\n      <td>37.0</td>\n      <td>46.0</td>\n      <td>90.0</td>\n    </tr>\n    <tr>\n      <th>Doctorate</th>\n      <td>375.0</td>\n      <td>47.130667</td>\n      <td>11.471727</td>\n      <td>24.0</td>\n      <td>39.0</td>\n      <td>47.0</td>\n      <td>54.0</td>\n      <td>80.0</td>\n    </tr>\n    <tr>\n      <th>HS-grad</th>\n      <td>9840.0</td>\n      <td>38.640955</td>\n      <td>13.067730</td>\n      <td>17.0</td>\n      <td>28.0</td>\n      <td>37.0</td>\n      <td>48.0</td>\n      <td>90.0</td>\n    </tr>\n    <tr>\n      <th>Masters</th>\n      <td>1627.0</td>\n      <td>43.740012</td>\n      <td>10.735356</td>\n      <td>18.0</td>\n      <td>36.0</td>\n      <td>43.0</td>\n      <td>50.0</td>\n      <td>90.0</td>\n    </tr>\n    <tr>\n      <th>Preschool</th>\n      <td>45.0</td>\n      <td>41.288889</td>\n      <td>15.175672</td>\n      <td>19.0</td>\n      <td>30.0</td>\n      <td>40.0</td>\n      <td>53.0</td>\n      <td>75.0</td>\n    </tr>\n    <tr>\n      <th>Prof-school</th>\n      <td>542.0</td>\n      <td>44.249077</td>\n      <td>11.428098</td>\n      <td>25.0</td>\n      <td>36.0</td>\n      <td>43.0</td>\n      <td>50.0</td>\n      <td>90.0</td>\n    </tr>\n    <tr>\n      <th>Some-college</th>\n      <td>6678.0</td>\n      <td>36.135370</td>\n      <td>13.073528</td>\n      <td>17.0</td>\n      <td>25.0</td>\n      <td>35.0</td>\n      <td>45.0</td>\n      <td>90.0</td>\n    </tr>\n  </tbody>\n</table>\n</div>"
     },
     "execution_count": 217,
     "metadata": {},
     "output_type": "execute_result"
    }
   ],
   "source": [
    "df.groupby(\"education\").age.describe()"
   ],
   "metadata": {
    "collapsed": false,
    "pycharm": {
     "name": "#%%\n"
    },
    "ExecuteTime": {
     "end_time": "2024-01-09T11:15:08.906666700Z",
     "start_time": "2024-01-09T11:15:08.416069700Z"
    }
   }
  },
  {
   "cell_type": "markdown",
   "source": [
    "# Task 7\n",
    "Compare the married and non-married men salaries. Who earns more? (>50K or <=50K)\n",
    "Married men are those, whom `marital-status` starts with \"Married\". Others are not."
   ],
   "metadata": {
    "collapsed": false,
    "pycharm": {
     "name": "#%% md\n"
    }
   }
  },
  {
   "cell_type": "code",
   "execution_count": 218,
   "outputs": [
    {
     "data": {
      "text/plain": "marital-status  salary\nMarried         <=50K      8016\n                >50K       6440\nNot Married     <=50K     14638\n                >50K       1068\nName: salary, dtype: int64"
     },
     "execution_count": 218,
     "metadata": {},
     "output_type": "execute_result"
    }
   ],
   "source": [
    "df[\"marital-status\"] = df[\"marital-status\"].apply(lambda x: \"Married\" if x.startswith(\"Married\") else \"Not Married\")\n",
    "\n",
    "df.groupby([\"marital-status\", \"salary\"]).salary.count()"
   ],
   "metadata": {
    "collapsed": false,
    "pycharm": {
     "name": "#%%\n"
    },
    "ExecuteTime": {
     "end_time": "2024-01-09T11:15:08.961947200Z",
     "start_time": "2024-01-09T11:15:08.532812500Z"
    }
   }
  },
  {
   "cell_type": "markdown",
   "source": [
    "# Task 8\n",
    "Get the max hours per week some person works. How many people works the same amount of hours per week?"
   ],
   "metadata": {
    "collapsed": false,
    "pycharm": {
     "name": "#%% md\n"
    }
   }
  },
  {
   "cell_type": "code",
   "execution_count": 219,
   "outputs": [
    {
     "data": {
      "text/plain": "99"
     },
     "execution_count": 219,
     "metadata": {},
     "output_type": "execute_result"
    }
   ],
   "source": [
    "max_hours = df[\"hours-per-week\"].max()\n",
    "max_hours\n"
   ],
   "metadata": {
    "collapsed": false,
    "pycharm": {
     "name": "#%%\n"
    },
    "ExecuteTime": {
     "end_time": "2024-01-09T11:15:08.961947200Z",
     "start_time": "2024-01-09T11:15:08.571207900Z"
    }
   }
  },
  {
   "cell_type": "code",
   "execution_count": 220,
   "outputs": [
    {
     "data": {
      "text/plain": "78"
     },
     "execution_count": 220,
     "metadata": {},
     "output_type": "execute_result"
    }
   ],
   "source": [
    "(df[\"hours-per-week\"] == max_hours).sum()"
   ],
   "metadata": {
    "collapsed": false,
    "ExecuteTime": {
     "end_time": "2024-01-09T11:15:09.022149Z",
     "start_time": "2024-01-09T11:15:08.586689100Z"
    }
   }
  },
  {
   "cell_type": "markdown",
   "source": [
    "# Task 9\n",
    "Analyze the correlation between data in dataset. Understand connected fields in it and print highlight thier connection."
   ],
   "metadata": {
    "collapsed": false,
    "pycharm": {
     "name": "#%% md\n"
    }
   }
  },
  {
   "cell_type": "code",
   "execution_count": 221,
   "outputs": [
    {
     "data": {
      "text/plain": "   Unnamed: 0  age         workclass  education marital-status  \\\n0           0   39         State-gov  Bachelors    Not Married   \n1           1   50  Self-emp-not-inc  Bachelors        Married   \n2           2   38           Private    HS-grad    Not Married   \n3           3   53           Private       11th        Married   \n4           4   28           Private  Bachelors        Married   \n\n          occupation   relationship   race     sex  hours-per-week  \\\n0       Adm-clerical  Not-in-family  White    Male              40   \n1    Exec-managerial        Husband  White    Male              13   \n2  Handlers-cleaners  Not-in-family  White    Male              40   \n3  Handlers-cleaners        Husband  Black    Male              40   \n4     Prof-specialty           Wife  Black  Female              40   \n\n  native-country salary  salary K$  salary_check  \n0  United-States  <=50K         39          True  \n1  United-States  <=50K         35          True  \n2  United-States  <=50K         27          True  \n3  United-States  <=50K         43          True  \n4           Cuba  <=50K         25          True  ",
      "text/html": "<div>\n<style scoped>\n    .dataframe tbody tr th:only-of-type {\n        vertical-align: middle;\n    }\n\n    .dataframe tbody tr th {\n        vertical-align: top;\n    }\n\n    .dataframe thead th {\n        text-align: right;\n    }\n</style>\n<table border=\"1\" class=\"dataframe\">\n  <thead>\n    <tr style=\"text-align: right;\">\n      <th></th>\n      <th>Unnamed: 0</th>\n      <th>age</th>\n      <th>workclass</th>\n      <th>education</th>\n      <th>marital-status</th>\n      <th>occupation</th>\n      <th>relationship</th>\n      <th>race</th>\n      <th>sex</th>\n      <th>hours-per-week</th>\n      <th>native-country</th>\n      <th>salary</th>\n      <th>salary K$</th>\n      <th>salary_check</th>\n    </tr>\n  </thead>\n  <tbody>\n    <tr>\n      <th>0</th>\n      <td>0</td>\n      <td>39</td>\n      <td>State-gov</td>\n      <td>Bachelors</td>\n      <td>Not Married</td>\n      <td>Adm-clerical</td>\n      <td>Not-in-family</td>\n      <td>White</td>\n      <td>Male</td>\n      <td>40</td>\n      <td>United-States</td>\n      <td>&lt;=50K</td>\n      <td>39</td>\n      <td>True</td>\n    </tr>\n    <tr>\n      <th>1</th>\n      <td>1</td>\n      <td>50</td>\n      <td>Self-emp-not-inc</td>\n      <td>Bachelors</td>\n      <td>Married</td>\n      <td>Exec-managerial</td>\n      <td>Husband</td>\n      <td>White</td>\n      <td>Male</td>\n      <td>13</td>\n      <td>United-States</td>\n      <td>&lt;=50K</td>\n      <td>35</td>\n      <td>True</td>\n    </tr>\n    <tr>\n      <th>2</th>\n      <td>2</td>\n      <td>38</td>\n      <td>Private</td>\n      <td>HS-grad</td>\n      <td>Not Married</td>\n      <td>Handlers-cleaners</td>\n      <td>Not-in-family</td>\n      <td>White</td>\n      <td>Male</td>\n      <td>40</td>\n      <td>United-States</td>\n      <td>&lt;=50K</td>\n      <td>27</td>\n      <td>True</td>\n    </tr>\n    <tr>\n      <th>3</th>\n      <td>3</td>\n      <td>53</td>\n      <td>Private</td>\n      <td>11th</td>\n      <td>Married</td>\n      <td>Handlers-cleaners</td>\n      <td>Husband</td>\n      <td>Black</td>\n      <td>Male</td>\n      <td>40</td>\n      <td>United-States</td>\n      <td>&lt;=50K</td>\n      <td>43</td>\n      <td>True</td>\n    </tr>\n    <tr>\n      <th>4</th>\n      <td>4</td>\n      <td>28</td>\n      <td>Private</td>\n      <td>Bachelors</td>\n      <td>Married</td>\n      <td>Prof-specialty</td>\n      <td>Wife</td>\n      <td>Black</td>\n      <td>Female</td>\n      <td>40</td>\n      <td>Cuba</td>\n      <td>&lt;=50K</td>\n      <td>25</td>\n      <td>True</td>\n    </tr>\n  </tbody>\n</table>\n</div>"
     },
     "execution_count": 221,
     "metadata": {},
     "output_type": "execute_result"
    }
   ],
   "source": [
    "df.head()"
   ],
   "metadata": {
    "collapsed": false,
    "pycharm": {
     "name": "#%%\n"
    },
    "ExecuteTime": {
     "end_time": "2024-01-09T11:15:09.085829900Z",
     "start_time": "2024-01-09T11:15:08.600733Z"
    }
   }
  },
  {
   "cell_type": "code",
   "execution_count": 222,
   "outputs": [],
   "source": [
    "\n",
    "workclass_mapper = {value: num for num, value in enumerate(df.workclass.unique())}\n",
    "\n",
    "df.workclass.replace(workclass_mapper, inplace=True)\n",
    "\n",
    "native_country_mapper = {value: num for num, value in enumerate(df[\"native-country\"].unique())}\n",
    "\n",
    "df[\"native-country\"].replace(native_country_mapper, inplace=True)\n",
    "\n",
    "education_mapper = {value: num for num, value in enumerate(df.education.unique())}\n",
    "\n",
    "df.education.replace(education_mapper, inplace=True)\n",
    "\n",
    "occupancy_mapper = {value: num for num, value in enumerate(df.occupation.unique())}\n",
    "\n",
    "df.occupation.replace(occupancy_mapper, inplace=True)\n",
    "\n",
    "df.sex.replace({\n",
    "    \"Male\": 1,\n",
    "    \"Female\": 0,\n",
    "}, inplace=True)\n"
   ],
   "metadata": {
    "collapsed": false,
    "ExecuteTime": {
     "end_time": "2024-01-09T11:15:09.373616800Z",
     "start_time": "2024-01-09T11:15:08.639202900Z"
    }
   }
  },
  {
   "cell_type": "code",
   "execution_count": 223,
   "outputs": [
    {
     "data": {
      "text/plain": "                     age  workclass  education  occupation       sex  \\\nage             1.000000   0.064147   0.009060    0.002072  0.081993   \nworkclass       0.064147   1.000000  -0.022917   -0.046620  0.005652   \neducation       0.009060  -0.022917   1.000000    0.056654 -0.001781   \noccupation      0.002072  -0.046620   0.056654    1.000000  0.263619   \nsex             0.081993   0.005652  -0.001781    0.263619  1.000000   \nnative-country -0.005066  -0.012075   0.060493    0.018083 -0.006269   \nsalary K$       0.208203   0.086385  -0.039488   -0.064373  0.182642   \n\n                native-country  salary K$  \nage                  -0.005066   0.208203  \nworkclass            -0.012075   0.086385  \neducation             0.060493  -0.039488  \noccupation            0.018083  -0.064373  \nsex                  -0.006269   0.182642  \nnative-country        1.000000  -0.020267  \nsalary K$            -0.020267   1.000000  ",
      "text/html": "<div>\n<style scoped>\n    .dataframe tbody tr th:only-of-type {\n        vertical-align: middle;\n    }\n\n    .dataframe tbody tr th {\n        vertical-align: top;\n    }\n\n    .dataframe thead th {\n        text-align: right;\n    }\n</style>\n<table border=\"1\" class=\"dataframe\">\n  <thead>\n    <tr style=\"text-align: right;\">\n      <th></th>\n      <th>age</th>\n      <th>workclass</th>\n      <th>education</th>\n      <th>occupation</th>\n      <th>sex</th>\n      <th>native-country</th>\n      <th>salary K$</th>\n    </tr>\n  </thead>\n  <tbody>\n    <tr>\n      <th>age</th>\n      <td>1.000000</td>\n      <td>0.064147</td>\n      <td>0.009060</td>\n      <td>0.002072</td>\n      <td>0.081993</td>\n      <td>-0.005066</td>\n      <td>0.208203</td>\n    </tr>\n    <tr>\n      <th>workclass</th>\n      <td>0.064147</td>\n      <td>1.000000</td>\n      <td>-0.022917</td>\n      <td>-0.046620</td>\n      <td>0.005652</td>\n      <td>-0.012075</td>\n      <td>0.086385</td>\n    </tr>\n    <tr>\n      <th>education</th>\n      <td>0.009060</td>\n      <td>-0.022917</td>\n      <td>1.000000</td>\n      <td>0.056654</td>\n      <td>-0.001781</td>\n      <td>0.060493</td>\n      <td>-0.039488</td>\n    </tr>\n    <tr>\n      <th>occupation</th>\n      <td>0.002072</td>\n      <td>-0.046620</td>\n      <td>0.056654</td>\n      <td>1.000000</td>\n      <td>0.263619</td>\n      <td>0.018083</td>\n      <td>-0.064373</td>\n    </tr>\n    <tr>\n      <th>sex</th>\n      <td>0.081993</td>\n      <td>0.005652</td>\n      <td>-0.001781</td>\n      <td>0.263619</td>\n      <td>1.000000</td>\n      <td>-0.006269</td>\n      <td>0.182642</td>\n    </tr>\n    <tr>\n      <th>native-country</th>\n      <td>-0.005066</td>\n      <td>-0.012075</td>\n      <td>0.060493</td>\n      <td>0.018083</td>\n      <td>-0.006269</td>\n      <td>1.000000</td>\n      <td>-0.020267</td>\n    </tr>\n    <tr>\n      <th>salary K$</th>\n      <td>0.208203</td>\n      <td>0.086385</td>\n      <td>-0.039488</td>\n      <td>-0.064373</td>\n      <td>0.182642</td>\n      <td>-0.020267</td>\n      <td>1.000000</td>\n    </tr>\n  </tbody>\n</table>\n</div>"
     },
     "execution_count": 223,
     "metadata": {},
     "output_type": "execute_result"
    }
   ],
   "source": [
    "df_corr = df[[\"age\", \"workclass\", \"education\", \"occupation\", \"sex\", \"native-country\", \"salary K$\"]].corr()\n",
    "df_corr"
   ],
   "metadata": {
    "collapsed": false,
    "ExecuteTime": {
     "end_time": "2024-01-09T11:15:09.423834200Z",
     "start_time": "2024-01-09T11:15:08.842843100Z"
    }
   }
  },
  {
   "cell_type": "code",
   "execution_count": 223,
   "outputs": [],
   "source": [],
   "metadata": {
    "collapsed": false,
    "ExecuteTime": {
     "end_time": "2024-01-09T11:15:09.449028800Z",
     "start_time": "2024-01-09T11:15:08.887007300Z"
    }
   }
  }
 ],
 "metadata": {
  "kernelspec": {
   "display_name": "Python 3",
   "language": "python",
   "name": "python3"
  },
  "language_info": {
   "codemirror_mode": {
    "name": "ipython",
    "version": 2
   },
   "file_extension": ".py",
   "mimetype": "text/x-python",
   "name": "python",
   "nbconvert_exporter": "python",
   "pygments_lexer": "ipython2",
   "version": "2.7.6"
  }
 },
 "nbformat": 4,
 "nbformat_minor": 0
}
